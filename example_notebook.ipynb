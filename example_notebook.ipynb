{
 "cells": [
  {
   "cell_type": "markdown",
   "id": "300afcfb-635a-4a86-9315-7a77084e5c42",
   "metadata": {},
   "source": [
    "# DP Fine-tune, and deploy a custom LLM model using Secludy PII-Free Synthetic Text Replicas Algorithm from AWS Marketplace"
   ]
  },
  {
   "cell_type": "markdown",
   "id": "5e045ffb-09f8-45cc-be2e-90aa4dc33942",
   "metadata": {},
   "source": [
    "# Pre-requisites\n",
    "Note: This notebook contains elements which render correctly in Jupyter interface. Open this notebook from an Amazon SageMaker Notebook Instance or Amazon SageMaker Studio.\n",
    "\n",
    "Ensure that IAM role used has AmazonSageMakerFullAccess\n",
    "\n",
    "Some hands-on experience using Amazon SageMaker.\n",
    "\n",
    "To use this algorithm successfully, ensure that:\n",
    "\n",
    "Either your IAM role has these three permissions and you have authority to make AWS Marketplace subscriptions in the AWS account used:\n",
    "\n",
    "aws-marketplace:ViewSubscriptions\n",
    "\n",
    "aws-marketplace:Unsubscribe\n",
    "\n",
    "aws-marketplace:Subscribe\n",
    "\n",
    "or your AWS account has a subscription to For Seller to update:Secludy PII-Free Synthetic Text Replicas."
   ]
  },
  {
   "cell_type": "markdown",
   "id": "6d79a933-4d78-492f-b895-c089768778b9",
   "metadata": {},
   "source": [
    "# how Sagemaker algorithms works with AWS marketplace product"
   ]
  },
  {
   "cell_type": "markdown",
   "id": "3f4898c8-a4b6-4abe-9ee7-d856477bed97",
   "metadata": {},
   "source": [
    "![image.png](asset/image.png)"
   ]
  },
  {
   "cell_type": "markdown",
   "id": "2941ca89-ef36-49aa-9f79-ac155912f235",
   "metadata": {},
   "source": [
    "# To subscribe to the algorithm: \n",
    "1. Open the algorithm listing page For Seller to update:Secludy PII-Free Synthetic Text Replicas.\n",
    "2. On the AWS Marketplace listing, click on Continue to subscribe button.\n",
    "3. On the Subscribe to this software page, review and click on “Accept Offer” if you agree with EULA, pricing, and support terms.\n",
    "4. Once you click on Continue to configuration button and then choose a region, you will see a Product Arn. This is the algorithm ARN that you need to specify while training a custom ML model. Copy the ARN corresponding to your region and specify the same in the following cell."
   ]
  },
  {
   "cell_type": "code",
   "execution_count": null,
   "id": "d715101b-4fe4-43c4-a56d-f750889e0cdc",
   "metadata": {},
   "outputs": [],
   "source": [
    "algorithm_arn = \"<Customer to specify algorithm ARN corresponding to their AWS region>\""
   ]
  },
  {
   "cell_type": "markdown",
   "id": "79bc2efc-6b28-4b02-b9c1-ef4d841a0fe4",
   "metadata": {},
   "source": [
    "# set up role"
   ]
  },
  {
   "cell_type": "code",
   "execution_count": null,
   "id": "5688a8e2-731c-44d8-93cd-bdfc1bd86602",
   "metadata": {},
   "outputs": [],
   "source": [
    "import sagemaker\n",
    "role = sagemaker.get_execution_role()"
   ]
  },
  {
   "cell_type": "code",
   "execution_count": null,
   "id": "86d59966-3e56-4dd8-a415-533cab9200ca",
   "metadata": {},
   "outputs": [],
   "source": [
    "role"
   ]
  },
  {
   "cell_type": "code",
   "execution_count": null,
   "id": "a854dfa6-a7ee-4355-8b94-4b1c8473096b",
   "metadata": {},
   "outputs": [],
   "source": [
    "import boto3\n",
    "session = boto3.Session(region_name='us-east-1')\n",
    "sagemaker_session = sagemaker.Session(boto_session=session)"
   ]
  },
  {
   "cell_type": "code",
   "execution_count": null,
   "id": "c30f2385-6577-4f71-9d5f-3e519f20131e",
   "metadata": {},
   "outputs": [],
   "source": [
    "bucket = sagemaker_session.default_bucket()\n",
    "bucket"
   ]
  },
  {
   "cell_type": "markdown",
   "id": "5da57fc5-d3fd-47a5-95a3-2d42ece78a5b",
   "metadata": {},
   "source": [
    "# Buyer need to update S3 output location"
   ]
  },
  {
   "cell_type": "code",
   "execution_count": null,
   "id": "723621c9-7115-433e-bf1d-5dd6d335c37b",
   "metadata": {},
   "outputs": [],
   "source": [
    "# output_location = \"s3://{}/<For seller to Update:Update a unique prefix>/{}\".format(\n",
    "#     bucket, \"output\"\n",
    "# )\n",
    "output_location = \"s3://secludy-public-listing/prod listing out/buyer-test/\".format(\n",
    "    bucket, \"output\"\n",
    ")"
   ]
  },
  {
   "cell_type": "markdown",
   "id": "e1f6377d-9670-42dd-be83-f5e1c0991764",
   "metadata": {},
   "source": [
    "# Define hyperparameters ,update the prompt to your use case"
   ]
  },
  {
   "cell_type": "code",
   "execution_count": null,
   "id": "1375cd7b-041f-42bb-a86a-28098f697189",
   "metadata": {},
   "outputs": [],
   "source": [
    "\n",
    "hyperparameters = {  \n",
    "    \"epochs\": \"1\",\n",
    "        \"batch_size\": \"1\",\n",
    "        \"learning_rate\": \"0.001\",\n",
    "        \"grad_accum_steps\": \"16\",\n",
    "        \"epsilon\": \"8.0\",\n",
    "        \"max_seq_length\": \"512\",\n",
    "        \"instruction\": \"Classify the following email content into its appropriate category based on its content.\"}"
   ]
  },
  {
   "cell_type": "code",
   "execution_count": null,
   "id": "463848fd-fa05-4d34-bfda-b4952bc86683",
   "metadata": {},
   "outputs": [],
   "source": [
    "from sagemaker import AlgorithmEstimator\n",
    "estimator = AlgorithmEstimator(\n",
    "algorithm_arn=algorithm_arn,\n",
    "role=role,\n",
    "instance_count=1,\n",
    "instance_type='ml.g5.xlarge',\n",
    "sagemaker_session=sagemaker_session,\n",
    "   output_path = output_location,\n",
    "    hyperparameters=hyperparameters,\n",
    "base_job_name='privacy-protective-synthetic-data-generation'\n",
    ")"
   ]
  },
  {
   "cell_type": "markdown",
   "id": "9bb0883b-751d-4011-b2f9-9411859ef46f",
   "metadata": {},
   "source": [
    "# Buyer update model fine-tuning input in jsonl file format"
   ]
  },
  {
   "cell_type": "markdown",
   "id": "dd38f797-b165-4f44-9000-d1e3bfbd8f2c",
   "metadata": {},
   "source": [
    "for example:   \n",
    "we have two col, named 'content' and 'category'   \n",
    "note: 'category' col is a label with any length   \n",
    "{\"content\": \"From: Liam O'Connor <liam.oconnor@costco.com>\\nTo: Operations Team <operations.team@costco.com>\\nSubject: Update on Warehouse Optimization Project\\n\\nThe new layout plans are finalized and ready for implementation next week. Please review and prepare your teams accordingly.\", \"category\": \"Project Updates\"}  \n",
    "{\"content\": \"From: Rajesh Gupta <rajesh.gupta@costco.com>\\nTo: Supply Chain Team <supplychain.team@costco.com>\\nSubject: Project Update: New Vendor Integration\\n\\nVendor integration is progressing well, with 75% of the process complete. Expected completion is by end of next week.\", \"category\": \"Project Updates\"}"
   ]
  },
  {
   "cell_type": "code",
   "execution_count": null,
   "id": "fc5adaa2-0ea7-49cb-9c34-ab1f0a26c71c",
   "metadata": {
    "scrolled": true
   },
   "outputs": [],
   "source": [
    "train_input = 's3://secludy-public-listing/costco_emails_formatted.jsonl'\n",
    "\n",
    "estimator.fit({'training': train_input})"
   ]
  },
  {
   "cell_type": "markdown",
   "id": "9f92dff0-1e83-4bf9-aca1-e4103d46f780",
   "metadata": {},
   "source": [
    "# Deploy model and verify results"
   ]
  },
  {
   "cell_type": "code",
   "execution_count": null,
   "id": "f9fb2023-0040-4bfb-be95-94d7e40a8e0e",
   "metadata": {},
   "outputs": [],
   "source": [
    "model_name = \"DP-LLM-generator\"\n",
    "\n",
    "content_type = \"application/json\"\n",
    "\n",
    "real_time_inference_instance_type = (\n",
    "    \"ml.p3.2xlarge\"\n",
    ")\n",
    "batch_transform_inference_instance_type = (\n",
    "    \"ml.p3.2xlarge\"\n",
    ")"
   ]
  },
  {
   "cell_type": "code",
   "execution_count": null,
   "id": "2b0e1240-ce89-4611-b909-bff5903ffcfe",
   "metadata": {},
   "outputs": [],
   "source": [
    "model_path =  \"For Seller to update:<specify-path-to-finetuned-weights>\""
   ]
  },
  {
   "cell_type": "code",
   "execution_count": null,
   "id": "5f1e2fe0-dbb5-4595-a39b-89dce24ad7ff",
   "metadata": {},
   "outputs": [],
   "source": [
    "# Provide path to incremental model weights\n",
    "\n",
    "kwargs = {}\n",
    "kwargs[\"algorithm_arn\"] = algorithm_arn\n",
    "model = sagemaker.ModelPackage(\n",
    "    role=role, model_data=model_path, sagemaker_session=sagemaker_session, **kwargs\n",
    ")\n",
    "\n",
    "endpoint_name = \"sythetic-data-gen-endpoint\"\n",
    "\n",
    "model.deploy(\n",
    "    initial_instance_count=1,\n",
    "    instance_type=real_time_inference_instance_type,\n",
    "    endpoint_name=endpoint_name,\n",
    "    model_data_download_timeout=2400,\n",
    "    container_startup_health_check_timeout=2400,\n",
    ")"
   ]
  },
  {
   "cell_type": "code",
   "execution_count": null,
   "id": "6abe07cf-3ded-4b80-abd7-0a4df028d7fa",
   "metadata": {},
   "outputs": [],
   "source": [
    "!aws sagemaker-runtime invoke-endpoint \\\n",
    "    --endpoint-name sythetic-data-gen-endpoint \\\n",
    "    --body '{ \"categories\": [\"Project Updates\", \"HR Communications\"],\"num_replicas\": 1,\"max_tokens\": 128,\"instruction\": \"write me some corporate email examples in the category of\" }' \\\n",
    "    --content-type \"application/json\" \\\n",
    "    --region us-east-1 \\\n",
    "    output.json"
   ]
  },
  {
   "cell_type": "markdown",
   "id": "3131bfee-9a5d-4ef3-b031-d6c28f64a2c8",
   "metadata": {},
   "source": [
    "# [optional] delete endpoint after use"
   ]
  },
  {
   "cell_type": "code",
   "execution_count": null,
   "id": "b3c94e74-d52f-4556-86b9-4a543257fff2",
   "metadata": {},
   "outputs": [],
   "source": [
    "# Specify the endpoint name\n",
    "endpoint_name = \"sythetic-data-gen-endpoint\"\n",
    "sagemaker_client = boto3.client(\"sagemaker\", region_name=\"us-east-1\")\n",
    "# Delete the endpoint\n",
    "sagemaker_client.delete_endpoint(EndpointName=endpoint_name)\n",
    "\n",
    "print(f\"Endpoint '{endpoint_name}' has been deleted.\")"
   ]
  },
  {
   "cell_type": "code",
   "execution_count": null,
   "id": "16708e16-9046-4a6a-90de-4ba3e0a967bb",
   "metadata": {},
   "outputs": [],
   "source": []
  }
 ],
 "metadata": {
  "kernelspec": {
   "display_name": "conda_python3",
   "language": "python",
   "name": "conda_python3"
  },
  "language_info": {
   "codemirror_mode": {
    "name": "ipython",
    "version": 3
   },
   "file_extension": ".py",
   "mimetype": "text/x-python",
   "name": "python",
   "nbconvert_exporter": "python",
   "pygments_lexer": "ipython3",
   "version": "3.10.15"
  }
 },
 "nbformat": 4,
 "nbformat_minor": 5
}
